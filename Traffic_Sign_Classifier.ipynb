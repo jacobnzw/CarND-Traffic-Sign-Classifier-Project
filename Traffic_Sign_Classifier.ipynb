{
 "cells": [
  {
   "cell_type": "markdown",
   "metadata": {},
   "source": [
    "# Self-Driving Car Engineer Nanodegree\n",
    "\n",
    "## Deep Learning\n",
    "\n",
    "## Project: Build a Traffic Sign Recognition Classifier\n",
    "\n",
    "In this notebook, a template is provided for you to implement your functionality in stages, which is required to successfully complete this project. If additional code is required that cannot be included in the notebook, be sure that the Python code is successfully imported and included in your submission if necessary. \n",
    "\n",
    "> **Note**: Once you have completed all of the code implementations, you need to finalize your work by exporting the iPython Notebook as an HTML document. Before exporting the notebook to html, all of the code cells need to have been run so that reviewers can see the final implementation and output. You can then export the notebook by using the menu above and navigating to  \\n\",\n",
    "    \"**File -> Download as -> HTML (.html)**. Include the finished document along with this notebook as your submission. \n",
    "\n",
    "In addition to implementing code, there is a writeup to complete. The writeup should be completed in a separate file, which can be either a markdown file or a pdf document. There is a [write up template](https://github.com/udacity/CarND-Traffic-Sign-Classifier-Project/blob/master/writeup_template.md) that can be used to guide the writing process. Completing the code template and writeup template will cover all of the [rubric points](https://review.udacity.com/#!/rubrics/481/view) for this project.\n",
    "\n",
    "The [rubric](https://review.udacity.com/#!/rubrics/481/view) contains \"Stand Out Suggestions\" for enhancing the project beyond the minimum requirements. The stand out suggestions are optional. If you decide to pursue the \"stand out suggestions\", you can include the code in this Ipython notebook and also discuss the results in the writeup file.\n",
    "\n",
    "\n",
    ">**Note:** Code and Markdown cells can be executed using the **Shift + Enter** keyboard shortcut. In addition, Markdown cells can be edited by typically double-clicking the cell to enter edit mode."
   ]
  },
  {
   "cell_type": "markdown",
   "metadata": {},
   "source": [
    "---\n",
    "## Step 0: Load The Data"
   ]
  },
  {
   "cell_type": "code",
   "execution_count": 1,
   "metadata": {
    "collapsed": true
   },
   "outputs": [],
   "source": [
    "import numpy as np\n",
    "import pickle\n",
    "import tensorflow as tf\n",
    "import matplotlib.pyplot as plt\n",
    "from numpy import newaxis as na\n",
    "\n",
    "# Visualizations will be shown in the notebook.\n",
    "%matplotlib inline"
   ]
  },
  {
   "cell_type": "code",
   "execution_count": 26,
   "metadata": {},
   "outputs": [
    {
     "name": "stdout",
     "output_type": "stream",
     "text": [
      "(34799, 32, 32, 3) (34799,)\n"
     ]
    }
   ],
   "source": [
    "# Load pickled data\n",
    "training_file = './traffic-signs-data/train.p'\n",
    "validation_file = './traffic-signs-data/test.p'\n",
    "testing_file = './traffic-signs-data/valid.p'\n",
    "\n",
    "with open(training_file, mode='rb') as f:\n",
    "    train = pickle.load(f)\n",
    "with open(validation_file, mode='rb') as f:\n",
    "    valid = pickle.load(f)\n",
    "with open(testing_file, mode='rb') as f:\n",
    "    test = pickle.load(f)\n",
    "    \n",
    "X_train, y_train = train['features'], train['labels']\n",
    "X_valid, y_valid = valid['features'], valid['labels']\n",
    "X_test, y_test = test['features'], test['labels']\n",
    "\n",
    "import csv\n",
    "with open('signnames.csv', 'r') as f:\n",
    "    reader = csv.reader(f, delimiter=',')\n",
    "    next(reader, None)\n",
    "    label_dict = {int(row[0]):row[1] for row in reader}\n",
    "#     for row in reader:\n",
    "#         print(row[0])\n",
    "\n",
    "print(X_train.shape, y_train.shape)"
   ]
  },
  {
   "cell_type": "markdown",
   "metadata": {},
   "source": [
    "---\n",
    "\n",
    "## Step 1: Dataset Summary & Exploration\n",
    "\n",
    "The pickled data is a dictionary with 4 key/value pairs:\n",
    "\n",
    "- `'features'` is a 4D array containing raw pixel data of the traffic sign images, (num examples, width, height, channels).\n",
    "- `'labels'` is a 1D array containing the label/class id of the traffic sign. The file `signnames.csv` contains id -> name mappings for each id.\n",
    "- `'sizes'` is a list containing tuples, (width, height) representing the original width and height the image.\n",
    "- `'coords'` is a list containing tuples, (x1, y1, x2, y2) representing coordinates of a bounding box around the sign in the image. **THESE COORDINATES ASSUME THE ORIGINAL IMAGE. THE PICKLED DATA CONTAINS RESIZED VERSIONS (32 by 32) OF THESE IMAGES**\n",
    "\n",
    "Complete the basic data summary below. Use python, numpy and/or pandas methods to calculate the data summary rather than hard coding the results. For example, the [pandas shape method](http://pandas.pydata.org/pandas-docs/stable/generated/pandas.DataFrame.shape.html) might be useful for calculating some of the summary results. "
   ]
  },
  {
   "cell_type": "markdown",
   "metadata": {},
   "source": [
    "### Provide a Basic Summary of the Data Set Using Python, Numpy and/or Pandas"
   ]
  },
  {
   "cell_type": "code",
   "execution_count": 3,
   "metadata": {},
   "outputs": [
    {
     "name": "stdout",
     "output_type": "stream",
     "text": [
      "Number of training examples = 34799\n",
      "Number of testing examples = 4410\n",
      "Number of validation examples = 12630\n",
      "Image data shape = (32, 32, 3)\n",
      "Number of classes = 43\n"
     ]
    }
   ],
   "source": [
    "### Replace each question mark with the appropriate value. \n",
    "\n",
    "# TODO: Number of training examples\n",
    "n_train = y_train.shape[0]\n",
    "\n",
    "# TODO: Number of validation examples\n",
    "n_validation = y_valid.shape[0]\n",
    "\n",
    "# TODO: Number of testing examples.\n",
    "n_test = y_test.shape[0]\n",
    "\n",
    "# TODO: What's the shape of an traffic sign image?\n",
    "image_shape = X_train.shape[1:]\n",
    "\n",
    "# TODO: How many unique classes/labels there are in the dataset.\n",
    "n_classes = np.unique(y_train).size\n",
    "\n",
    "print(\"Number of training examples =\", n_train)\n",
    "print(\"Number of testing examples =\", n_test)\n",
    "print(\"Number of validation examples =\", n_validation)\n",
    "print(\"Image data shape =\", image_shape)\n",
    "print(\"Number of classes =\", n_classes)"
   ]
  },
  {
   "cell_type": "markdown",
   "metadata": {},
   "source": [
    "### Include an exploratory visualization of the dataset"
   ]
  },
  {
   "cell_type": "markdown",
   "metadata": {},
   "source": [
    "Visualize the German Traffic Signs Dataset using the pickled file(s). This is open ended, suggestions include: plotting traffic sign images, plotting the count of each sign, etc. \n",
    "\n",
    "The [Matplotlib](http://matplotlib.org/) [examples](http://matplotlib.org/examples/index.html) and [gallery](http://matplotlib.org/gallery.html) pages are a great resource for doing visualizations in Python.\n",
    "\n",
    "**NOTE:** It's recommended you start with something simple first. If you wish to do more, come back to it after you've completed the rest of the sections. It can be interesting to look at the distribution of classes in the training, validation and test set. Is the distribution the same? Are there more examples of some classes than others?"
   ]
  },
  {
   "cell_type": "code",
   "execution_count": 4,
   "metadata": {},
   "outputs": [
    {
     "data": {
      "text/plain": [
       "<matplotlib.legend.Legend at 0x2749f5365f8>"
      ]
     },
     "execution_count": 4,
     "metadata": {},
     "output_type": "execute_result"
    },
    {
     "data": {
      "image/png": "[encoded data removed]",
      "text/plain": [
       "<Figure size 432x288 with 1 Axes>"
      ]
     },
     "metadata": {},
     "output_type": "display_data"
    }
   ],
   "source": [
    "### Data exploration visualization code goes here.\n",
    "\n",
    "# Histograms of the train/validation/test sets\n",
    "opt = {'bins': n_classes, 'density': True, 'histtype': 'step'}\n",
    "a = plt.hist(y_test.T, label='test', **opt)\n",
    "a = plt.hist(y_valid.T, label='valid', **opt)\n",
    "a = plt.hist(y_train.T, label='train', **opt)\n",
    "\n",
    "plt.legend()"
   ]
  },
  {
   "cell_type": "markdown",
   "metadata": {},
   "source": [
    "----\n",
    "\n",
    "## Step 2: Design and Test a Model Architecture\n",
    "\n",
    "Design and implement a deep learning model that learns to recognize traffic signs. Train and test your model on the [German Traffic Sign Dataset](http://benchmark.ini.rub.de/?section=gtsrb&subsection=dataset).\n",
    "\n",
    "The LeNet-5 implementation shown in the [classroom](https://classroom.udacity.com/nanodegrees/nd013/parts/fbf77062-5703-404e-b60c-95b78b2f3f9e/modules/6df7ae49-c61c-4bb2-a23e-6527e69209ec/lessons/601ae704-1035-4287-8b11-e2c2716217ad/concepts/d4aca031-508f-4e0b-b493-e7b706120f81) at the end of the CNN lesson is a solid starting point. You'll have to change the number of classes and possibly the preprocessing, but aside from that it's plug and play! \n",
    "\n",
    "With the LeNet-5 solution from the lecture, you should expect a validation set accuracy of about 0.89. To meet specifications, the validation set accuracy will need to be at least 0.93. It is possible to get an even higher accuracy, but 0.93 is the minimum for a successful project submission. \n",
    "\n",
    "There are various aspects to consider when thinking about this problem:\n",
    "\n",
    "- Neural network architecture (is the network over or underfitting?)\n",
    "- Play around preprocessing techniques (normalization, rgb to grayscale, etc)\n",
    "- Number of examples per label (some have more than others).\n",
    "- Generate fake data.\n",
    "\n",
    "Here is an example of a [published baseline model on this problem](http://yann.lecun.com/exdb/publis/pdf/sermanet-ijcnn-11.pdf). It's not required to be familiar with the approach used in the paper but, it's good practice to try to read papers like these."
   ]
  },
  {
   "cell_type": "markdown",
   "metadata": {},
   "source": [
    "### Pre-process the Data Set (normalization, grayscale, etc.)"
   ]
  },
  {
   "cell_type": "markdown",
   "metadata": {},
   "source": [
    "Minimally, the image data should be normalized so that the data has mean zero and equal variance. For image data, `(pixel - 128)/ 128` is a quick way to approximately normalize the data and can be used in this project. \n",
    "\n",
    "Other pre-processing steps are optional. You can try different techniques to see if it improves performance. \n",
    "\n",
    "Use the code cell (or multiple code cells, if necessary) to implement the first step of your project."
   ]
  },
  {
   "cell_type": "code",
   "execution_count": 5,
   "metadata": {},
   "outputs": [
    {
     "name": "stdout",
     "output_type": "stream",
     "text": [
      "Unnormalized: Mean: 82.68, STD: 4603.74\n",
      "Per-Image: Mean: 0.00, STD: 1.00\n"
     ]
    },
    {
     "data": {
      "image/png": "[encoded data removed]",
      "text/plain": [
       "<Figure size 432x288 with 1 Axes>"
      ]
     },
     "metadata": {},
     "output_type": "display_data"
    },
    {
     "data": {
      "image/png": "[encoded data removed]",
      "text/plain": [
       "<Figure size 432x288 with 1 Axes>"
      ]
     },
     "metadata": {},
     "output_type": "display_data"
    }
   ],
   "source": [
    "### Preprocess the data here. It is required to normalize the data. Other preprocessing steps could include \n",
    "### converting to grayscale, etc.\n",
    "\n",
    "opt = {'density': True, 'bins': 100}\n",
    "\n",
    "# unnormalized data histogram\n",
    "plt.figure()\n",
    "a = plt.hist(X_train.reshape(-1), **opt)\n",
    "print('Unnormalized: Mean: {:.2f}, STD: {:.2f}'.format(X_train.mean(), X_train.var()))\n",
    "\n",
    "# # simple normalization\n",
    "# normedX = (X_train - 128) / 128\n",
    "# plt.figure()\n",
    "# plt.hist(normedX.reshape(-1), **opt)\n",
    "# print('Simple: Mean: {:.2f}, STD: {:.2f}'.format(normedX.mean(), normedX.var()))\n",
    "\n",
    "def im_norm(imgs):\n",
    "    # normalization for each channel in each image independently\n",
    "    mu = np.mean(imgs, axis=(1,2))\n",
    "    std = np.std(imgs, axis=(1,2))\n",
    "    return (imgs - mu[:, na, na, :]) / std[:, na, na, :]\n",
    "\n",
    "# normalize all sets\n",
    "X_train = im_norm(X_train)\n",
    "X_valid = im_norm(X_valid)\n",
    "X_test  = im_norm(X_test)\n",
    "\n",
    "plt.figure()\n",
    "a = plt.hist(X_train.reshape(-1), **opt)\n",
    "print('Per-Image: Mean: {:.2f}, STD: {:.2f}'.format(X_train.mean(), X_train.var()))\n",
    "\n",
    "\n",
    "# # normalization using tf.image.per_image_standardization()\n",
    "# im = tf.placeholder(tf.uint8, shape=X_train.shape[1:])\n",
    "# standardized_im = tf.image.per_image_standardization(im)\n",
    "# normalizedX = np.zeros(X_train.shape)\n",
    "# with tf.Session() as sess:\n",
    "#     for ind, image in enumerate(X_train):\n",
    "#         normalizedX[ind, ...] = sess.run(standardized_im, feed_dict={im: image})\n",
    "\n",
    "# plt.figure()\n",
    "# a = plt.hist(normalizedX.reshape(-1), **opt)\n",
    "# print('TF-standardization: Mean: {:.2f}, STD: {:.2f}'.format(normedX.mean(), normedX.var()))"
   ]
  },
  {
   "cell_type": "markdown",
   "metadata": {},
   "source": [
    "### Model Architecture"
   ]
  },
  {
   "cell_type": "code",
   "execution_count": 6,
   "metadata": {
    "collapsed": true
   },
   "outputs": [],
   "source": [
    "from tensorflow.contrib.layers import flatten\n",
    "\n",
    "x = tf.placeholder(tf.float32, shape=(None,)+image_shape)\n",
    "y = tf.placeholder(tf.uint8, shape=(None,))\n",
    "keep_prob = tf.placeholder(tf.float32, shape=(), name='keep_probability')\n",
    "y_one_hot = tf.one_hot(y, n_classes)\n",
    "\n",
    "# TODO: 2x CONV-5x5, POOL, 2xCONV-3x3, POOL, 3xFC (DROPOUT)\n",
    "def deep_conv_net_alt(x, keep_prob):    \n",
    "    # Arguments used for tf.truncated_normal, randomly defines variables for the weights and biases for each layer\n",
    "    mu = 0\n",
    "    sigma = 0.1\n",
    "    \n",
    "    # CONV_11: Input = 32x32x3. Output = 32x32x4.\n",
    "    filter_size = [5, 5, 3, 4]\n",
    "    strides = [1, 1, 1, 1]\n",
    "    conv11_W = tf.Variable(tf.truncated_normal(filter_size, mu, sigma), name='conv11_W')\n",
    "    conv11_b = tf.Variable(tf.zeros(filter_size[-1]), name='conv11_b')\n",
    "    conv11 = tf.nn.conv2d(x, conv11_W, strides, 'SAME', name='conv11') + conv11_b\n",
    "    # ACTIVATION\n",
    "    conv11 = tf.contrib.layers.batch_norm(conv11, center=True, scale=True)\n",
    "    conv11 = tf.nn.relu(conv11)\n",
    "\n",
    "    # CONV_12: Output = 32x32x8.\n",
    "    filter_size = [5, 5, 4, 8]\n",
    "    strides = [1, 1, 1, 1]\n",
    "    conv12_W = tf.Variable(tf.truncated_normal(filter_size, mu, sigma), name='conv12_W')\n",
    "    conv12_b = tf.Variable(tf.zeros(filter_size[-1]), name='conv12_b')\n",
    "    conv12 = tf.nn.conv2d(conv11, conv12_W, strides, 'SAME', name='conv12') + conv12_b\n",
    "    # ACTIVATION\n",
    "    conv12 = tf.contrib.layers.batch_norm(conv12, center=True, scale=True)\n",
    "    conv12 = tf.nn.relu(conv12)\n",
    "    \n",
    "    # CONV_13: Output = 32x32x16.\n",
    "    filter_size = [5, 5, 8, 16]\n",
    "    strides = [1, 1, 1, 1]\n",
    "    conv13_W = tf.Variable(tf.truncated_normal(filter_size, mu, sigma), name='conv13_W')\n",
    "    conv13_b = tf.Variable(tf.zeros(filter_size[-1]), name='conv13_b')\n",
    "    conv13 = tf.nn.conv2d(conv12, conv13_W, strides, 'SAME', name='conv13') + conv13_b\n",
    "    # ACTIVATION\n",
    "    conv13 = tf.contrib.layers.batch_norm(conv13, center=True, scale=True)\n",
    "    conv13 = tf.nn.relu(conv13)\n",
    "    \n",
    "    # POOL: Input = 32x32x16. Output = 16x16x16.\n",
    "    window_size = [1, 2, 2, 1]\n",
    "    strides = [1, 2, 2, 1]\n",
    "    conv13 = tf.nn.max_pool(conv13, window_size, strides, 'SAME', name='maxpool_2')\n",
    "\n",
    "    # CONV_21: Output = 16x16x32\n",
    "    filter_size = [3, 3, 16, 32]\n",
    "    strides = [1, 1, 1, 1]\n",
    "    conv21_W = tf.Variable(tf.truncated_normal(filter_size, mu, sigma), name='conv21_W')\n",
    "    conv21_b = tf.Variable(tf.zeros(filter_size[-1]), name='conv21_b')\n",
    "    conv21 = tf.nn.conv2d(conv13, conv21_W, strides, 'SAME', name='conv21') + conv21_b\n",
    "    # ACTIVATION\n",
    "    conv21 = tf.contrib.layers.batch_norm(conv21, center=True, scale=True)\n",
    "    conv21 = tf.nn.relu(conv21, name='relu_21')\n",
    "    \n",
    "    # CONV_22: Output = 16x16x64\n",
    "    filter_size = [3, 3, 32, 64]\n",
    "    strides = [1, 1, 1, 1]\n",
    "    conv22_W = tf.Variable(tf.truncated_normal(filter_size, mu, sigma))\n",
    "    conv22_b = tf.Variable(tf.zeros(filter_size[-1]))\n",
    "    conv22 = tf.nn.conv2d(conv21, conv22_W, strides, 'SAME') + conv22_b\n",
    "    # ACTIVATION\n",
    "    conv22 = tf.contrib.layers.batch_norm(conv22, center=True, scale=True)\n",
    "    conv22 = tf.nn.relu(conv22)\n",
    "    \n",
    "    \n",
    "    # CONV_23: Output = 16x16x128\n",
    "    filter_size = [3, 3, 64, 128]\n",
    "    strides = [1, 1, 1, 1]\n",
    "    conv23_W = tf.Variable(tf.truncated_normal(filter_size, mu, sigma))\n",
    "    conv23_b = tf.Variable(tf.zeros(filter_size[-1]))\n",
    "    conv23 = tf.nn.conv2d(conv22, conv23_W, strides, 'SAME') + conv23_b\n",
    "    # ACTIVATION\n",
    "    conv23 = tf.contrib.layers.batch_norm(conv23, center=True, scale=True)\n",
    "    conv23 = tf.nn.relu(conv23)\n",
    "    \n",
    "    # POOL: Input = 16x16x128, Output = 8x8x128\n",
    "    window_size = [1, 2, 2, 1]\n",
    "    strides = [1, 2, 2, 1]\n",
    "    conv23 = tf.nn.max_pool(conv23, window_size, strides, 'SAME')\n",
    "    \n",
    "    # FLATTEN: Input = 8x8x128. Output = 8192.\n",
    "    conv23 = flatten(conv23)\n",
    "    feat = conv23\n",
    "    \n",
    "    # FC_1: Input = 8192. Output = 1024.\n",
    "    feat_len = feat.get_shape().as_list()[1]\n",
    "    fc1_W = tf.Variable(tf.truncated_normal((feat_len, 1024), mu, sigma))\n",
    "    fc1_b = tf.Variable(tf.zeros(1024))\n",
    "    fc1 = tf.matmul(feat, fc1_W) + fc1_b\n",
    "    fc1 = tf.contrib.layers.batch_norm(fc1, center=True, scale=True)\n",
    "    fc1 = tf.nn.relu(fc1)\n",
    "    fc1 = tf.nn.dropout(fc1, keep_prob)\n",
    "\n",
    "    # FC_2: Input = . Output = .\n",
    "    fc2_W = tf.Variable(tf.truncated_normal((1024, 512), mu, sigma))\n",
    "    fc2_b = tf.Variable(tf.zeros(512))\n",
    "    fc2 = tf.matmul(fc1, fc2_W) + fc2_b\n",
    "    fc2 = tf.contrib.layers.batch_norm(fc2, center=True, scale=True)\n",
    "    fc2 = tf.nn.relu(fc2)\n",
    "    fc2 = tf.nn.dropout(fc2, keep_prob)\n",
    "    \n",
    "    # FC_3\n",
    "    fc3_W = tf.Variable(tf.truncated_normal((512, n_classes), mu, sigma))\n",
    "    fc3_b = tf.Variable(tf.zeros(n_classes))\n",
    "    fc3 = tf.matmul(fc2, fc3_W) + fc3_b\n",
    "    \n",
    "    logits = fc3\n",
    "    \n",
    "    return logits\n",
    "\n",
    "# forward pass through the neural net\n",
    "logits = deep_conv_net_alt(x, keep_prob)"
   ]
  },
  {
   "cell_type": "markdown",
   "metadata": {},
   "source": [
    "### Train, Validate and Test the Model"
   ]
  },
  {
   "cell_type": "markdown",
   "metadata": {},
   "source": [
    "A validation set can be used to assess how well the model is performing. A low accuracy on the training and validation\n",
    "sets imply underfitting. A high accuracy on the training set but low accuracy on the validation set implies overfitting."
   ]
  },
  {
   "cell_type": "code",
   "execution_count": 7,
   "metadata": {
    "collapsed": true
   },
   "outputs": [
    {
     "name": "stdout",
     "output_type": "stream",
     "text": [
      "WARNING:tensorflow:From <ipython-input-7-0146b9ab2c96>:8: softmax_cross_entropy_with_logits (from tensorflow.python.ops.nn_ops) is deprecated and will be removed in a future version.\n",
      "Instructions for updating:\n",
      "\n",
      "Future major versions of TensorFlow will allow gradients to flow\n",
      "into the labels input on backprop by default.\n",
      "\n",
      "See tf.nn.softmax_cross_entropy_with_logits_v2.\n",
      "\n"
     ]
    }
   ],
   "source": [
    "### Train your model here.\n",
    "### Calculate and report the accuracy on the training and validation set.\n",
    "### Once a final model architecture is selected, \n",
    "### the accuracy on the test set should be calculated and reported as well.\n",
    "### Feel free to use as many code cells as needed.\n",
    "\n",
    "# LOSS specification\n",
    "smaxcentropy = tf.nn.softmax_cross_entropy_with_logits(labels=y_one_hot, logits=logits)\n",
    "loss = tf.reduce_mean(smaxcentropy)\n",
    "\n",
    "# ACCURACY\n",
    "# correct prediction == the array of logits attains maximum at the same index as the class label\n",
    "correct_pred = tf.equal(tf.argmax(logits, 1), tf.argmax(y_one_hot, 1))\n",
    "accuracy_op = tf.reduce_mean(tf.cast(correct_pred, tf.float32))\n",
    "\n",
    "def evaluate(X_data, y_data, kp_prob):\n",
    "    num_examples = len(X_data)\n",
    "    total_accuracy = 0\n",
    "    sess = tf.get_default_session()\n",
    "    for offset in range(0, num_examples, BATCH_SIZE):\n",
    "        batch_x, batch_y = X_data[offset:offset+BATCH_SIZE], y_data[offset:offset+BATCH_SIZE]\n",
    "        accuracy = sess.run(accuracy_op, feed_dict = {x: batch_x, y: batch_y, keep_prob: kp_prob})\n",
    "        total_accuracy += (accuracy * len(batch_x))\n",
    "    return total_accuracy / num_examples\n",
    "\n",
    "saver = tf.train.Saver()\n"
   ]
  },
  {
   "cell_type": "code",
   "execution_count": 8,
   "metadata": {
    "collapsed": true
   },
   "outputs": [],
   "source": [
    "from sklearn.utils import shuffle\n",
    "\n",
    "# OPTIMIZER specification\n",
    "learning_rate = 0.01\n",
    "optimizer = tf.train.AdamOptimizer(learning_rate)\n",
    "train_op = optimizer.minimize(loss)\n",
    "\n",
    "EPOCHS = 30\n",
    "BATCH_SIZE = 128\n",
    "DROPOUT_OFF = 1.0  # only for evaluation purposes"
   ]
  },
  {
   "cell_type": "code",
   "execution_count": 9,
   "metadata": {
    "scrolled": true
   },
   "outputs": [
    {
     "name": "stdout",
     "output_type": "stream",
     "text": [
      "Training...\n",
      "\n",
      "EPOCH 1 ...\n",
      "Validation Accuracy = 0.930\n",
      "\n",
      "EPOCH 2 ...\n",
      "Validation Accuracy = 0.928\n",
      "\n",
      "EPOCH 3 ...\n",
      "Validation Accuracy = 0.949\n",
      "\n",
      "EPOCH 4 ...\n",
      "Validation Accuracy = 0.956\n",
      "\n",
      "EPOCH 5 ...\n",
      "Validation Accuracy = 0.959\n",
      "\n",
      "EPOCH 6 ...\n",
      "Validation Accuracy = 0.970\n",
      "\n",
      "EPOCH 7 ...\n",
      "Validation Accuracy = 0.952\n",
      "\n",
      "EPOCH 8 ...\n",
      "Validation Accuracy = 0.950\n",
      "\n",
      "EPOCH 9 ...\n",
      "Validation Accuracy = 0.962\n",
      "\n",
      "EPOCH 10 ...\n",
      "Validation Accuracy = 0.959\n",
      "\n",
      "EPOCH 11 ...\n",
      "Validation Accuracy = 0.962\n",
      "\n",
      "EPOCH 12 ...\n",
      "Validation Accuracy = 0.965\n",
      "\n",
      "EPOCH 13 ...\n",
      "Validation Accuracy = 0.963\n",
      "\n",
      "EPOCH 14 ...\n",
      "Validation Accuracy = 0.958\n",
      "\n",
      "EPOCH 15 ...\n",
      "Validation Accuracy = 0.965\n",
      "\n",
      "EPOCH 16 ...\n",
      "Validation Accuracy = 0.959\n",
      "\n",
      "EPOCH 17 ...\n",
      "Validation Accuracy = 0.965\n",
      "\n",
      "EPOCH 18 ...\n",
      "Validation Accuracy = 0.962\n",
      "\n",
      "EPOCH 19 ...\n",
      "Validation Accuracy = 0.965\n",
      "\n",
      "EPOCH 20 ...\n",
      "Validation Accuracy = 0.967\n",
      "\n",
      "EPOCH 21 ...\n",
      "Validation Accuracy = 0.960\n",
      "\n",
      "EPOCH 22 ...\n",
      "Validation Accuracy = 0.963\n",
      "\n",
      "EPOCH 23 ...\n",
      "Validation Accuracy = 0.961\n",
      "\n",
      "EPOCH 24 ...\n",
      "Validation Accuracy = 0.969\n",
      "\n",
      "EPOCH 25 ...\n",
      "Validation Accuracy = 0.964\n",
      "\n",
      "EPOCH 26 ...\n",
      "Validation Accuracy = 0.960\n",
      "\n",
      "EPOCH 27 ...\n",
      "Validation Accuracy = 0.969\n",
      "\n",
      "EPOCH 28 ...\n",
      "Validation Accuracy = 0.965\n",
      "\n",
      "EPOCH 29 ...\n",
      "Validation Accuracy = 0.967\n",
      "\n",
      "EPOCH 30 ...\n",
      "Validation Accuracy = 0.970\n",
      "\n",
      "Training Accuracy = 1.000\n",
      "\n",
      "Testing Accuracy = 0.279\n",
      "\n",
      "Model saved\n"
     ]
    }
   ],
   "source": [
    "with tf.Session() as sess:\n",
    "    sess.run(tf.global_variables_initializer())\n",
    "    num_examples = len(X_train)\n",
    "    \n",
    "    print(\"Training...\")\n",
    "    print()\n",
    "    for i in range(EPOCHS):\n",
    "        # shuffle the whole training data set\n",
    "        X_train, y_train = shuffle(X_train, y_train)\n",
    "        \n",
    "        # for each batch\n",
    "        for offset in range(0, num_examples, BATCH_SIZE):\n",
    "            end = offset + BATCH_SIZE\n",
    "            batch_x, batch_y = X_train[offset:end, ...], y_train[offset:end]\n",
    "            # do one iteration of stochastic gradient descent\n",
    "            sess.run(train_op, feed_dict={x: batch_x, y: batch_y, keep_prob: 0.7})\n",
    "        \n",
    "        # accuracy on validation data set\n",
    "        validation_accuracy = evaluate(X_valid, y_valid, DROPOUT_OFF)\n",
    "        print(\"EPOCH {} ...\".format(i+1))\n",
    "        print(\"Validation Accuracy = {:.3f}\".format(validation_accuracy))\n",
    "        print()\n",
    "    \n",
    "    # accuracy on training set\n",
    "    train_accuracy = evaluate(X_train, y_train, DROPOUT_OFF)\n",
    "    print(\"Training Accuracy = {:.3f}\".format(train_accuracy))\n",
    "    print()\n",
    "    \n",
    "    # REMEMBER to turn off dropout for testing (keep_prob=1)\n",
    "    test_accuracy = evaluate(X_test, y_test, DROPOUT_OFF)\n",
    "    print(\"Testing Accuracy = {:.3f}\".format(test_accuracy))\n",
    "    print()\n",
    "    \n",
    "#     saver.save(sess, './model')\n",
    "    saver.save(sess, './model_alt')\n",
    "    print(\"Model saved\")"
   ]
  },
  {
   "cell_type": "code",
   "execution_count": 34,
   "metadata": {},
   "outputs": [
    {
     "name": "stdout",
     "output_type": "stream",
     "text": [
      "INFO:tensorflow:Restoring parameters from .\\model_alt\n",
      "Testing Accuracy = 0.278\n"
     ]
    }
   ],
   "source": [
    "with tf.Session() as sess:\n",
    "    saver.restore(sess, tf.train.latest_checkpoint('.'))\n",
    "    test_accuracy = evaluate(X_test, y_test, DROPOUT_OFF)\n",
    "    print(\"Testing Accuracy = {:.3f}\".format(test_accuracy))"
   ]
  },
  {
   "cell_type": "markdown",
   "metadata": {},
   "source": [
    "---\n",
    "\n",
    "## Step 3: Test a Model on New Images\n",
    "\n",
    "To give yourself more insight into how your model is working, download at least five pictures of German traffic signs from the web and use your model to predict the traffic sign type.\n",
    "\n",
    "You may find `signnames.csv` useful as it contains mappings from the class id (integer) to the actual sign name."
   ]
  },
  {
   "cell_type": "markdown",
   "metadata": {},
   "source": [
    "### Load and Output the Images"
   ]
  },
  {
   "cell_type": "code",
   "execution_count": 9,
   "metadata": {},
   "outputs": [
    {
     "name": "stdout",
     "output_type": "stream",
     "text": [
      "[22, 24, 2, 1, 21]\n"
     ]
    },
    {
     "data": {
      "image/png": "[encoded data removed]",
      "text/plain": [
       "<Figure size 432x288 with 5 Axes>"
      ]
     },
     "metadata": {},
     "output_type": "display_data"
    }
   ],
   "source": [
    "### Load the images and plot them here.\n",
    "### Feel free to use as many code cells as needed.\n",
    "import matplotlib.image as mpimg\n",
    "import os\n",
    "test_directory = './webimg/'\n",
    "\n",
    "test_img = np.zeros((5, 32,32,3), dtype=np.uint8)\n",
    "if not os.path.isdir(test_directory):\n",
    "    # create output directory if it doesn't exist\n",
    "    os.makedirs(test_directory)\n",
    "    \n",
    "listdir = os.listdir(test_directory)\n",
    "labelfile = listdir.pop(listdir.index('labels.txt'))\n",
    "with open(test_directory + labelfile, 'r') as f:\n",
    "    test_img_labels = [int(l) for l in f.readline().split(',')]\n",
    "print(test_img_labels)\n",
    "\n",
    "fig, axes = plt.subplots(1, 5)\n",
    "for imind, image in enumerate(listdir):\n",
    "    test_img[imind, ...] = mpimg.imread(test_directory + image)\n",
    "    axes[imind].imshow(test_img[imind, ...])"
   ]
  },
  {
   "cell_type": "markdown",
   "metadata": {},
   "source": [
    "### Predict the Sign Type for Each Image"
   ]
  },
  {
   "cell_type": "code",
   "execution_count": 31,
   "metadata": {
    "collapsed": true
   },
   "outputs": [
    {
     "name": "stdout",
     "output_type": "stream",
     "text": [
      "INFO:tensorflow:Restoring parameters from .\\model_alt\n"
     ]
    }
   ],
   "source": [
    "### Run the predictions here and use the model to output the prediction for each image.\n",
    "### Make sure to pre-process the images with the same pre-processing pipeline used earlier.\n",
    "### Feel free to use as many code cells as needed.\n",
    "\n",
    "# normalize test images from web\n",
    "test_img = im_norm(test_img)\n",
    "\n",
    "with tf.Session() as sess:\n",
    "    saver.restore(sess, tf.train.latest_checkpoint('.'))\n",
    "    out = sess.run(logits, feed_dict={x: test_img, keep_prob: DROPOUT_OFF})\n",
    "    values, indices = sess.run(tf.nn.top_k(out, k=1))"
   ]
  },
  {
   "cell_type": "markdown",
   "metadata": {},
   "source": [
    "### Analyze Performance"
   ]
  },
  {
   "cell_type": "code",
   "execution_count": 39,
   "metadata": {},
   "outputs": [
    {
     "name": "stdout",
     "output_type": "stream",
     "text": [
      "Image                     | Prediction\n",
      "Bumpy road                | Bumpy road\n",
      "Road narrows on the right | Yield\n",
      "Speed limit (50km/h)      | No passing for vehicles over 3.5 metric tons\n",
      "Speed limit (30km/h)      | Speed limit (30km/h)\n",
      "Double curve              | Right-of-way at the next intersection\n",
      "Accuracy on new images: 0.400\n"
     ]
    }
   ],
   "source": [
    "### Calculate the accuracy for these 5 new images. \n",
    "### For example, if the model predicted 1 out of 5 signs correctly, it's 20% accurate on these new images.\n",
    "indices = np.array(indices).squeeze()\n",
    "test_img_labels = np.array(test_img_labels)\n",
    "# print(indices)\n",
    "# print(test_img_labels)\n",
    "print(\"{:25} | Prediction\".format('Image'))\n",
    "for ix_image, ix_pred in zip(test_img_labels, indices):\n",
    "    print(\"{:25s} | {:s}\".format(label_dict[ix_image], label_dict[ix_pred]))\n",
    "print(\"Accuracy on new images: {:.3f}\".format(np.count_nonzero(indices == test_img_labels)/5))\n"
   ]
  },
  {
   "cell_type": "markdown",
   "metadata": {},
   "source": [
    "### Output Top 5 Softmax Probabilities For Each Image Found on the Web"
   ]
  },
  {
   "cell_type": "markdown",
   "metadata": {},
   "source": [
    "For each of the new images, print out the model's softmax probabilities to show the **certainty** of the model's predictions (limit the output to the top 5 probabilities for each image). [`tf.nn.top_k`](https://www.tensorflow.org/versions/r0.12/api_docs/python/nn.html#top_k) could prove helpful here. \n",
    "\n",
    "The example below demonstrates how tf.nn.top_k can be used to find the top k predictions for each image.\n",
    "\n",
    "`tf.nn.top_k` will return the values and indices (class ids) of the top k predictions. So if k=3, for each sign, it'll return the 3 largest probabilities (out of a possible 43) and the correspoding class ids.\n",
    "\n",
    "Take this numpy array as an example. The values in the array represent predictions. The array contains softmax probabilities for five candidate images with six possible classes. `tf.nn.top_k` is used to choose the three classes with the highest probability:\n",
    "\n",
    "```\n",
    "# (5, 6) array\n",
    "a = np.array([[ 0.24879643,  0.07032244,  0.12641572,  0.34763842,  0.07893497,\n",
    "         0.12789202],\n",
    "       [ 0.28086119,  0.27569815,  0.08594638,  0.0178669 ,  0.18063401,\n",
    "         0.15899337],\n",
    "       [ 0.26076848,  0.23664738,  0.08020603,  0.07001922,  0.1134371 ,\n",
    "         0.23892179],\n",
    "       [ 0.11943333,  0.29198961,  0.02605103,  0.26234032,  0.1351348 ,\n",
    "         0.16505091],\n",
    "       [ 0.09561176,  0.34396535,  0.0643941 ,  0.16240774,  0.24206137,\n",
    "         0.09155967]])\n",
    "```\n",
    "\n",
    "Running it through `sess.run(tf.nn.top_k(tf.constant(a), k=3))` produces:\n",
    "\n",
    "```\n",
    "TopKV2(values=array([[ 0.34763842,  0.24879643,  0.12789202],\n",
    "       [ 0.28086119,  0.27569815,  0.18063401],\n",
    "       [ 0.26076848,  0.23892179,  0.23664738],\n",
    "       [ 0.29198961,  0.26234032,  0.16505091],\n",
    "       [ 0.34396535,  0.24206137,  0.16240774]]), indices=array([[3, 0, 5],\n",
    "       [0, 1, 4],\n",
    "       [0, 5, 1],\n",
    "       [1, 3, 5],\n",
    "       [1, 4, 3]], dtype=int32))\n",
    "```\n",
    "\n",
    "Looking just at the first row we get `[ 0.34763842,  0.24879643,  0.12789202]`, you can confirm these are the 3 largest probabilities in `a`. You'll also notice `[3, 0, 5]` are the corresponding indices."
   ]
  },
  {
   "cell_type": "code",
   "execution_count": 40,
   "metadata": {
    "collapsed": true
   },
   "outputs": [
    {
     "name": "stdout",
     "output_type": "stream",
     "text": [
      "INFO:tensorflow:Restoring parameters from .\\model_alt\n"
     ]
    }
   ],
   "source": [
    "### Print out the top five softmax probabilities for the predictions on the German traffic sign images found on the web. \n",
    "### Feel free to use as many code cells as needed.\n",
    "probs = tf.nn.softmax(logits)\n",
    "with tf.Session() as sess:\n",
    "    saver.restore(sess, tf.train.latest_checkpoint('.'))\n",
    "    out = sess.run(probs, feed_dict={x: test_img, keep_prob: DROPOUT_OFF})\n",
    "    values, indices = sess.run(tf.nn.top_k(out, k=5))"
   ]
  },
  {
   "cell_type": "code",
   "execution_count": 51,
   "metadata": {},
   "outputs": [
    {
     "name": "stdout",
     "output_type": "stream",
     "text": [
      "Image 1 (Bumpy road)\n",
      "Probability | Prediction\n",
      "1.00 | Bumpy road\n",
      "0.00 | Wild animals crossing\n",
      "0.00 | Dangerous curve to the right\n",
      "0.00 | Stop\n",
      "0.00 | No entry\n",
      "\n",
      "Image 2 (Road narrows on the right)\n",
      "Probability | Prediction\n",
      "0.59 | Yield\n",
      "0.41 | Ahead only\n",
      "0.00 | Road narrows on the right\n",
      "0.00 | Speed limit (100km/h)\n",
      "0.00 | Speed limit (80km/h)\n",
      "\n",
      "Image 3 (Speed limit (50km/h))\n",
      "Probability | Prediction\n",
      "1.00 | No passing for vehicles over 3.5 metric tons\n",
      "0.00 | Roundabout mandatory\n",
      "0.00 | Stop\n",
      "0.00 | Speed limit (50km/h)\n",
      "0.00 | Keep right\n",
      "\n",
      "Image 4 (Speed limit (30km/h))\n",
      "Probability | Prediction\n",
      "1.00 | Speed limit (30km/h)\n",
      "0.00 | Yield\n",
      "0.00 | Speed limit (80km/h)\n",
      "0.00 | Roundabout mandatory\n",
      "0.00 | No vehicles\n",
      "\n",
      "Image 5 (Double curve)\n",
      "Probability | Prediction\n",
      "0.90 | Right-of-way at the next intersection\n",
      "0.10 | Speed limit (60km/h)\n",
      "0.00 | Children crossing\n",
      "0.00 | Beware of ice/snow\n",
      "0.00 | Turn left ahead\n",
      "\n"
     ]
    }
   ],
   "source": [
    "np.set_printoptions(precision=2)\n",
    "for i in range(5):\n",
    "    print('Image {:d} ({})'.format(i+1, label_dict[test_img_labels[i]]))\n",
    "    print('Probability | Prediction')\n",
    "    for j in range(5):\n",
    "        print('{:.2f} | {}'.format(values[i, j], label_dict[indices[i, j]]))\n",
    "    print()\n",
    "    "
   ]
  },
  {
   "cell_type": "markdown",
   "metadata": {},
   "source": [
    "### Project Writeup\n",
    "\n",
    "Once you have completed the code implementation, document your results in a project writeup using this [template](https://github.com/udacity/CarND-Traffic-Sign-Classifier-Project/blob/master/writeup_template.md) as a guide. The writeup can be in a markdown or pdf file. "
   ]
  },
  {
   "cell_type": "markdown",
   "metadata": {},
   "source": [
    "> **Note**: Once you have completed all of the code implementations and successfully answered each question above, you may finalize your work by exporting the iPython Notebook as an HTML document. You can do this by using the menu above and navigating to  \\n\",\n",
    "    \"**File -> Download as -> HTML (.html)**. Include the finished document along with this notebook as your submission."
   ]
  },
  {
   "cell_type": "markdown",
   "metadata": {},
   "source": [
    "---\n",
    "\n",
    "## Step 4 (Optional): Visualize the Neural Network's State with Test Images\n",
    "\n",
    " This Section is not required to complete but acts as an additional excersise for understaning the output of a neural network's weights. While neural networks can be a great learning device they are often referred to as a black box. We can understand what the weights of a neural network look like better by plotting their feature maps. After successfully training your neural network you can see what it's feature maps look like by plotting the output of the network's weight layers in response to a test stimuli image. From these plotted feature maps, it's possible to see what characteristics of an image the network finds interesting. For a sign, maybe the inner network feature maps react with high activation to the sign's boundary outline or to the contrast in the sign's painted symbol.\n",
    "\n",
    " Provided for you below is the function code that allows you to get the visualization output of any tensorflow weight layer you want. The inputs to the function should be a stimuli image, one used during training or a new one you provided, and then the tensorflow variable name that represents the layer's state during the training process, for instance if you wanted to see what the [LeNet lab's](https://classroom.udacity.com/nanodegrees/nd013/parts/fbf77062-5703-404e-b60c-95b78b2f3f9e/modules/6df7ae49-c61c-4bb2-a23e-6527e69209ec/lessons/601ae704-1035-4287-8b11-e2c2716217ad/concepts/d4aca031-508f-4e0b-b493-e7b706120f81) feature maps looked like for it's second convolutional layer you could enter conv2 as the tf_activation variable.\n",
    "\n",
    "For an example of what feature map outputs look like, check out NVIDIA's results in their paper [End-to-End Deep Learning for Self-Driving Cars](https://devblogs.nvidia.com/parallelforall/deep-learning-self-driving-cars/) in the section Visualization of internal CNN State. NVIDIA was able to show that their network's inner weights had high activations to road boundary lines by comparing feature maps from an image with a clear path to one without. Try experimenting with a similar test to show that your trained network's weights are looking for interesting features, whether it's looking at differences in feature maps from images with or without a sign, or even what feature maps look like in a trained network vs a completely untrained one on the same sign image.\n",
    "\n",
    "<figure>\n",
    " <img src=\"visualize_cnn.png\" width=\"380\" alt=\"Combined Image\" />\n",
    " <figcaption>\n",
    " <p></p> \n",
    " <p style=\"text-align: center;\"> Your output should look something like this (above)</p> \n",
    " </figcaption>\n",
    "</figure>\n",
    " <p></p> \n"
   ]
  },
  {
   "cell_type": "code",
   "execution_count": null,
   "metadata": {
    "collapsed": true
   },
   "outputs": [],
   "source": [
    "### Visualize your network's feature maps here.\n",
    "### Feel free to use as many code cells as needed.\n",
    "\n",
    "# image_input: the test image being fed into the network to produce the feature maps\n",
    "# tf_activation: should be a tf variable name used during your training procedure that represents the calculated state of a specific weight layer\n",
    "# activation_min/max: can be used to view the activation contrast in more detail, by default matplot sets min and max to the actual min and max values of the output\n",
    "# plt_num: used to plot out multiple different weight feature map sets on the same block, just extend the plt number for each new feature map entry\n",
    "\n",
    "def outputFeatureMap(image_input, tf_activation, activation_min=-1, activation_max=-1 ,plt_num=1):\n",
    "    # Here make sure to preprocess your image_input in a way your network expects\n",
    "    # with size, normalization, ect if needed\n",
    "    # image_input =\n",
    "    # Note: x should be the same name as your network's tensorflow data placeholder variable\n",
    "    # If you get an error tf_activation is not defined it may be having trouble accessing the variable from inside a function\n",
    "    activation = tf_activation.eval(session=sess,feed_dict={x : image_input})\n",
    "    featuremaps = activation.shape[3]\n",
    "    plt.figure(plt_num, figsize=(15,15))\n",
    "    for featuremap in range(featuremaps):\n",
    "        plt.subplot(6,8, featuremap+1) # sets the number of feature maps to show on each row and column\n",
    "        plt.title('FeatureMap ' + str(featuremap)) # displays the feature map number\n",
    "        if activation_min != -1 & activation_max != -1:\n",
    "            plt.imshow(activation[0,:,:, featuremap], interpolation=\"nearest\", vmin =activation_min, vmax=activation_max, cmap=\"gray\")\n",
    "        elif activation_max != -1:\n",
    "            plt.imshow(activation[0,:,:, featuremap], interpolation=\"nearest\", vmax=activation_max, cmap=\"gray\")\n",
    "        elif activation_min !=-1:\n",
    "            plt.imshow(activation[0,:,:, featuremap], interpolation=\"nearest\", vmin=activation_min, cmap=\"gray\")\n",
    "        else:\n",
    "            plt.imshow(activation[0,:,:, featuremap], interpolation=\"nearest\", cmap=\"gray\")"
   ]
  }
 ],
 "metadata": {
  "anaconda-cloud": {},
  "kernelspec": {
   "display_name": "Python [default]",
   "language": "python",
   "name": "python3"
  },
  "language_info": {
   "codemirror_mode": {
    "name": "ipython",
    "version": 3
   },
   "file_extension": ".py",
   "mimetype": "text/x-python",
   "name": "python",
   "nbconvert_exporter": "python",
   "pygments_lexer": "ipython3",
   "version": "3.5.4"
  },
  "widgets": {
   "state": {},
   "version": "1.1.2"
  }
 },
 "nbformat": 4,
 "nbformat_minor": 2
}
